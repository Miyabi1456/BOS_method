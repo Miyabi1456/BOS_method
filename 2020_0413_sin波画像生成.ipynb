{
 "cells": [
  {
   "cell_type": "markdown",
   "metadata": {},
   "source": [
    "# BOS法背景用  \n",
    "iphoneなどのディスプレイにsin波を表示させる"
   ]
  },
  {
   "cell_type": "code",
   "execution_count": 1,
   "metadata": {},
   "outputs": [],
   "source": [
    "import numpy as np\n",
    "import cv2\n",
    "from pathlib import Path\n",
    "import matplotlib.pyplot as plt"
   ]
  },
  {
   "cell_type": "code",
   "execution_count": 2,
   "metadata": {},
   "outputs": [],
   "source": [
    "# ディスプレイ\n",
    "ppi = 326 # 1inch(25.4mm)あたりのピクセル数\n",
    "x_pix = 750 # 横解像度\n",
    "y_pix = 1334 #縦解像度\n",
    "pix_per_mm = ppi / 25.4\n",
    "x_mm = x_pix / pix_per_mm\n",
    "y_mm = y_pix / pix_per_mm\n",
    "lam = 0.7 # mm"
   ]
  },
  {
   "cell_type": "code",
   "execution_count": 3,
   "metadata": {},
   "outputs": [
    {
     "data": {
      "text/plain": [
       "12.834645669291339"
      ]
     },
     "execution_count": 3,
     "metadata": {},
     "output_type": "execute_result"
    }
   ],
   "source": [
    "pix_per_mm"
   ]
  },
  {
   "cell_type": "code",
   "execution_count": 4,
   "metadata": {},
   "outputs": [
    {
     "data": {
      "text/plain": [
       "0.07791411042944785"
      ]
     },
     "execution_count": 4,
     "metadata": {},
     "output_type": "execute_result"
    }
   ],
   "source": [
    "1/pix_per_mm"
   ]
  },
  {
   "cell_type": "code",
   "execution_count": 5,
   "metadata": {},
   "outputs": [],
   "source": [
    "def sin_img(direction=\"x\",bit=8):\n",
    "    if direction == \"x\":\n",
    "        x = np.linspace(0.0,x_mm,x_pix)\n",
    "        sin = np.sin(2.0*np.pi*x/lam)\n",
    "        img = np.tile(sin,(y_pix,1)).T\n",
    "        img = 0.5 * (img + 1.0) * (2**bit-1.0)\n",
    "    elif direction == \"y\":\n",
    "        y = np.linspace(0.0,y_mm,y_pix)\n",
    "        sin = np.sin(2.0*np.pi*y/lam)\n",
    "        img = np.tile(sin,(x_pix,1))\n",
    "        img = 0.5 * (img + 1.0) * (2**bit-1.0)\n",
    "        \n",
    "    if bit == 8:\n",
    "        img = img.astype(np.uint8)\n",
    "    elif bit == 16:\n",
    "        img = img.astype(np.uint16)\n",
    "    else:\n",
    "        print(\"bit数は8か16\")\n",
    "    return img"
   ]
  },
  {
   "cell_type": "code",
   "execution_count": 6,
   "metadata": {},
   "outputs": [],
   "source": [
    "img = sin_img(direction=\"y\",bit=8)"
   ]
  },
  {
   "cell_type": "code",
   "execution_count": 7,
   "metadata": {},
   "outputs": [
    {
     "data": {
      "text/plain": [
       "True"
      ]
     },
     "execution_count": 7,
     "metadata": {},
     "output_type": "execute_result"
    }
   ],
   "source": [
    "cv2.imwrite(\"sin.png\",img)"
   ]
  },
  {
   "cell_type": "code",
   "execution_count": null,
   "metadata": {},
   "outputs": [],
   "source": []
  }
 ],
 "metadata": {
  "kernelspec": {
   "display_name": "Python 3",
   "language": "python",
   "name": "python3"
  },
  "language_info": {
   "codemirror_mode": {
    "name": "ipython",
    "version": 3
   },
   "file_extension": ".py",
   "mimetype": "text/x-python",
   "name": "python",
   "nbconvert_exporter": "python",
   "pygments_lexer": "ipython3",
   "version": "3.7.4"
  }
 },
 "nbformat": 4,
 "nbformat_minor": 4
}
